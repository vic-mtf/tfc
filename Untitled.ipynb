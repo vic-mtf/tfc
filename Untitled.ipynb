{
 "cells": [
  {
   "cell_type": "code",
   "execution_count": 4,
   "id": "9b5203f1",
   "metadata": {},
   "outputs": [
    {
     "name": "stdout",
     "output_type": "stream",
     "text": [
      "Les paramètres du modèle sont : [0.46488608 0.44089715]\n",
      "Le coefficient de détermination R² est : 0.8467116788214792\n"
     ]
    }
   ],
   "source": [
    "import numpy as np\n",
    "import statsmodels.api as sm\n",
    "\n",
    "# Vos données\n",
    "Yt = [3, 5, 7, 4, 2]\n",
    "Xt = [1, 3, 3, 2, 1]\n",
    "\n",
    "# Prendre le logarithme népérien de Yt\n",
    "Yt_log = np.log(Yt)\n",
    "\n",
    "# Ajouter une constante à Xt\n",
    "Xt = sm.add_constant(Xt)\n",
    "\n",
    "# Créer un modèle OLS\n",
    "model = sm.OLS(Yt_log, Xt)\n",
    "\n",
    "# Ajuster le modèle\n",
    "results = model.fit()\n",
    "\n",
    "# Imprimer les paramètres du modèle\n",
    "print('Les paramètres du modèle sont :', results.params)\n",
    "\n",
    "# Imprimer le coefficient de détermination R²\n",
    "print('Le coefficient de détermination R² est :', results.rsquared)\n"
   ]
  },
  {
   "cell_type": "code",
   "execution_count": null,
   "id": "2afc0aa3",
   "metadata": {},
   "outputs": [],
   "source": []
  },
  {
   "cell_type": "code",
   "execution_count": null,
   "id": "42da97c1",
   "metadata": {},
   "outputs": [],
   "source": []
  }
 ],
 "metadata": {
  "kernelspec": {
   "display_name": "Python 3 (ipykernel)",
   "language": "python",
   "name": "python3"
  },
  "language_info": {
   "codemirror_mode": {
    "name": "ipython",
    "version": 3
   },
   "file_extension": ".py",
   "mimetype": "text/x-python",
   "name": "python",
   "nbconvert_exporter": "python",
   "pygments_lexer": "ipython3",
   "version": "3.11.3"
  }
 },
 "nbformat": 4,
 "nbformat_minor": 5
}
