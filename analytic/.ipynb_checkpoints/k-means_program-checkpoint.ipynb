{
 "cells": [
  {
   "cell_type": "code",
   "execution_count": null,
   "id": "abdfdf18",
   "metadata": {},
   "outputs": [],
   "source": [
    "import pandas as pd \n",
    "path = 'seeds.txt'\n",
    "\"\"\"Chargment de deonées\"\"\"\n",
    "data = pd.read_csv(path, delim_whitespace=True, header=None)"
   ]
  },
  {
   "cell_type": "code",
   "execution_count": null,
   "id": "338a27bd",
   "metadata": {},
   "outputs": [],
   "source": [
    "\"\"\"Garder séparément la dernière colonne d'un numéro corespondant à l'espèce du blue\"\"\"\n",
    "X = data.drop(7, axis=1).values\n",
    "Y = data[7].values\n",
    "print X.shape\n",
    "print Y.shape"
   ]
  },
  {
   "cell_type": "code",
   "execution_count": null,
   "id": "4a53b9db",
   "metadata": {},
   "outputs": [],
   "source": [
    "from sklearn import preprocessing\n",
    "\"\"\"Normaliser les données pour qu'elles prennent toutes la même importance\"\"\"\n",
    "X_norm = preprocessing.scale(X)\n",
    "print X_norm.shape"
   ]
  },
  {
   "cell_type": "code",
   "execution_count": null,
   "id": "fb412554",
   "metadata": {},
   "outputs": [],
   "source": [
    "%pylab inline\n",
    "from sklearn import cluster, metrics\n",
    "silhouettes = []\n",
    "for num_clusters in range(2, 10):\n",
    "    cls = cluster.KMeans(n_clusters=num_clusters, n_init=1, init='random')\n",
    "    cls.fit(X_norm)\n",
    "    silh = metrics.silhouette_score(X_norm, cls.labels_) \n",
    "    silhouettes.append(silh)\n",
    "    \n",
    "plt.plot(range(2, 10), silhouettes, marker='0')"
   ]
  },
  {
   "cell_type": "code",
   "execution_count": null,
   "id": "e7931ae0",
   "metadata": {},
   "outputs": [],
   "source": [
    "from sklearn import decomposition \n",
    "pca = decomposition.PCA(n_components=2) \n",
    "pca.fit(X_norm)\n",
    "print pca.explained_variance_ratio_.cumsum() \n",
    "X_trans = pca.transform(X_norm)"
   ]
  },
  {
   "cell_type": "code",
   "execution_count": null,
   "id": "43a842ed",
   "metadata": {},
   "outputs": [],
   "source": [
    "fig = plt.figure(figsize=(12, 5))\n",
    "cls = cluster.KMeans(n_clusters=2) cls.fit(X_norm)\n",
    "ax = fig.add_subplot(121)\n",
    "ax.scatter(X_trans[:, 0], X_trans[:, 1], c=cls.labels_)\n",
    "cls3 = cluster.KMeans(n_clusters=3)\n",
    "cls3.fit(X_norm)\n",
    "ax = fig.add_subplot(122)\n",
    "ax.scatter(X_trans[:, 0], X_trans[:, 1], c=cls.labels_)"
   ]
  },
  {
   "cell_type": "code",
   "execution_count": null,
   "id": "d3e093b9",
   "metadata": {},
   "outputs": [],
   "source": [
    "fig = plt.figure(figsize=(12, 5))\n",
    "cls3 = cluster.KMeans(n_clusters=3)\n",
    "cls3.fit(X_norm)\n",
    "ax = fig.add_subplot(121)\n",
    "ax.scatter(X_trans[:, 0], X_trans[:, 1], c=cls3.labels_)\n",
    "\n",
    "ax = fig.add_subplot(122) \n",
    "ax.scatter (X_trans[:, 0], X trans[:, 1], c=Y)"
   ]
  },
  {
   "cell_type": "code",
   "execution_count": null,
   "id": "1c7431a5",
   "metadata": {},
   "outputs": [],
   "source": [
    "print metrics.adjusted_rand_score (Y, cls3.labels_)"
   ]
  }
 ],
 "metadata": {
  "kernelspec": {
   "display_name": "Python 3 (ipykernel)",
   "language": "python",
   "name": "python3"
  },
  "language_info": {
   "codemirror_mode": {
    "name": "ipython",
    "version": 3
   },
   "file_extension": ".py",
   "mimetype": "text/x-python",
   "name": "python",
   "nbconvert_exporter": "python",
   "pygments_lexer": "ipython3",
   "version": "3.10.9"
  }
 },
 "nbformat": 4,
 "nbformat_minor": 5
}
