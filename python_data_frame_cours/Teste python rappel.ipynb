{
 "cells": [
  {
   "cell_type": "raw",
   "id": "3b7aa35b",
   "metadata": {},
   "source": [
    "# \\[ G = \\frac{\\sum_{i=1}^{n}\\sum_{j=1}^{n}\\left|X_i - X_j\\right|}{2n^2\\bar{X}} \\]\n",
    "\n",
    "où :\n",
    "- \\( G \\) représente l'indice de Gini\n",
    "- \\( X_i \\) et \\( X_j \\) sont les revenus ou les richesses des individus \\( i \\) et \\( j \\)\n",
    "- \\( n \\) est le nombre total d'individus dans la population\n",
    "- \\( \\bar{X} \\) est la moyenne des revenus ou des richesses de la population"
   ]
  }
 ],
 "metadata": {
  "kernelspec": {
   "display_name": "Python 3 (ipykernel)",
   "language": "python",
   "name": "python3"
  },
  "language_info": {
   "codemirror_mode": {
    "name": "ipython",
    "version": 3
   },
   "file_extension": ".py",
   "mimetype": "text/x-python",
   "name": "python",
   "nbconvert_exporter": "python",
   "pygments_lexer": "ipython3",
   "version": "3.11.3"
  }
 },
 "nbformat": 4,
 "nbformat_minor": 5
}
